{
 "cells": [
  {
   "cell_type": "markdown",
   "metadata": {},
   "source": [
    "#3I005 Projet Exploration/Exploitation"
   ]
  },
  {
   "cell_type": "markdown",
   "metadata": {},
   "source": [
    "##BESSOUL Amine et BOUKHALFI Mourad"
   ]
  },
  {
   "cell_type": "markdown",
   "metadata": {},
   "source": [
    "#Partie 1 : Bandits manchots"
   ]
  },
  {
   "cell_type": "code",
   "execution_count": 1,
   "metadata": {},
   "outputs": [],
   "source": [
    "import random\n",
    "\n",
    "import math\n",
    "\n",
    "import numpy as np\n",
    "\n",
    "import matplotlib.pyplot as plt\n",
    "\n",
    "%matplotlib inline "
   ]
  },
  {
   "cell_type": "code",
   "execution_count": 2,
   "metadata": {},
   "outputs": [],
   "source": [
    "def jouer(machine, action):\n",
    "\n",
    "    \"\"\" A travers cette fonction, on simule l'action d'un levier d'une machine \"\"\"\n",
    "\n",
    "    prob = machine[action]\n",
    "\n",
    "    n = random.random()\n",
    "\n",
    "    if n < prob :\n",
    "\n",
    "        return 1\n",
    "\n",
    "    else :\n",
    "\n",
    "        return 0\n"
   ]
  },
  {
   "cell_type": "markdown",
   "metadata": {},
   "source": [
    "##Test :"
   ]
  },
  {
   "cell_type": "code",
   "execution_count": 3,
   "metadata": {},
   "outputs": [
    {
     "data": {
      "text/plain": [
       "1"
      ]
     },
     "execution_count": 3,
     "metadata": {},
     "output_type": "execute_result"
    }
   ],
   "source": [
    "jouer([0.3, 0.4, 0.2, 1, 7], 3)"
   ]
  },
  {
   "cell_type": "markdown",
   "metadata": {},
   "source": [
    "###Algorithmes :\n",
    "###Aglorithme aléatoire :"
   ]
  },
  {
   "cell_type": "code",
   "execution_count": 4,
   "metadata": {},
   "outputs": [],
   "source": [
    "def algo_alea(moyennes, liste_ni):\n",
    "\n",
    "    \"\"\" Une action est choisie uniformément parmi toutes celles possibles \"\"\"\n",
    "\n",
    "    return random.randint(0,len(moyennes)-1)"
   ]
  },
  {
   "cell_type": "markdown",
   "metadata": {},
   "source": [
    "\n",
    "###Algorithme greedy :"
   ]
  },
  {
   "cell_type": "code",
   "execution_count": 5,
   "metadata": {},
   "outputs": [],
   "source": [
    "def algo_greedy(moyennes, liste_ni):\n",
    "\n",
    "    n = 500 # nombre d'itérations\n",
    "\n",
    "    \"\"\" Choisit une action en suivant l'algorithme greedy\"\"\"  \n",
    "\n",
    "    if np.sum(liste_ni) < n :\n",
    "\n",
    "        return algo_alea(moyennes, liste_ni)\n",
    "\n",
    "    else :\n",
    "\n",
    "        return np.argmax(moyennes)\n"
   ]
  },
  {
   "cell_type": "markdown",
   "metadata": {},
   "source": [
    "###Algorithme e-greedy :"
   ]
  },
  {
   "cell_type": "code",
   "execution_count": 6,
   "metadata": {},
   "outputs": [],
   "source": [
    "def algo_e_greedy(moyennes, liste_ni):\n",
    "\n",
    "    \"\"\" Choisit une action en suivant l'algorithme e-greedy \"\"\"\n",
    "\n",
    "    e = 0.4\n",
    "\n",
    "    if random.random() < e : \n",
    "\n",
    "        return algo_alea(moyennes, liste_ni)\n",
    "\n",
    "    else : \n",
    "\n",
    "        return algo_greedy(moyennes, liste_ni)\n"
   ]
  },
  {
   "cell_type": "markdown",
   "metadata": {},
   "source": [
    "###Algorithme UCB :"
   ]
  },
  {
   "cell_type": "code",
   "execution_count": 7,
   "metadata": {},
   "outputs": [],
   "source": [
    "def algo_ucb(moyennes, liste_ni):\n",
    "\n",
    "    \"\"\" Choisit une action en suivant l'algorithme Upper Confidence Bound \"\"\"\n",
    "\n",
    "    t = np.sum(liste_ni) \n",
    "\n",
    "    for i in range(len(liste_ni)):\n",
    "\n",
    "        if liste_ni[i] ==  0 :\n",
    "\n",
    "            return i\n",
    "\n",
    "    return np.argmax([moyennes[i] + math.sqrt(2*math.log(t)/liste_ni[i]) for i in range(len(moyennes))])\n"
   ]
  },
  {
   "cell_type": "code",
   "execution_count": 8,
   "metadata": {},
   "outputs": [],
   "source": [
    "\n",
    "## Simulation"
   ]
  },
  {
   "cell_type": "code",
   "execution_count": 9,
   "metadata": {},
   "outputs": [],
   "source": [
    "def simulation(algorithme, machine, nb_coups):\n",
    "\n",
    "    \"\"\"Simule un jeu de machines à sous : On tire sur les leviers en suivant un algorithme choisi\n",
    "\n",
    "    Affiche le regret en fonction du temps à l'aide d'un graphe, ainsi que les estimations des différents algorithmes\"\"\"\n",
    "\n",
    "    \n",
    "\n",
    "    # Initialisations des différents tableaux et variables\n",
    "\n",
    "    moyennes = np.array([0.0 for i in range(len(machine))])\n",
    "\n",
    "    liste_gains = np.array([0.0 for i in range(len(machine))])\n",
    "\n",
    "    liste_ni = np.array([0 for i in range(len(machine))])\n",
    "\n",
    "    liste_regret = np.array([0 for i in range(nb_coups)])\n",
    "\n",
    "    gain_ideal = 0\n",
    "\n",
    "    action_ideale = np.argmax(machine)\n",
    "\n",
    "    \n",
    "\n",
    "    for i in range(nb_coups):\n",
    "\n",
    "        action = algorithme(moyennes, liste_ni)\n",
    "\n",
    "        gain = jouer(machine, action)\n",
    "\n",
    "        gain_ideal += jouer(machine, action_ideale)\n",
    "\n",
    "        liste_gains[action] += gain\n",
    "\n",
    "        liste_ni[action] += 1\n",
    "\n",
    "        moyennes[action] = round(liste_gains[action] / liste_ni[action], 2)\n",
    "\n",
    "        liste_regret[i] = gain_ideal-np.sum(liste_gains)\n",
    "\n",
    "    plt.ylabel(\"Regret\")\n",
    "\n",
    "    plt.xlabel(\"Nombre d'itérations\")\n",
    "\n",
    "    print(\"Simulation:\\n\")\n",
    "\n",
    "    print(\"machine:\\n\", machine)\n",
    "\n",
    "    print(\"moyennes estimées: \\n\", moyennes)\n",
    "\n",
    "    print(\"Courbe de regrets en fonction du temps\")\n",
    "\n",
    "    plt.plot([i for i in range(nb_coups)], liste_regret)\n",
    "\n",
    "    plt.show()\n"
   ]
  },
  {
   "cell_type": "markdown",
   "metadata": {},
   "source": [
    "##Test:"
   ]
  },
  {
   "cell_type": "code",
   "execution_count": 10,
   "metadata": {},
   "outputs": [],
   "source": [
    "machin = [0.7, 0.5, 0.25, 0.1, 0.4, 0.9]\n",
    "\n",
    "T = 50\n"
   ]
  },
  {
   "cell_type": "code",
   "execution_count": 11,
   "metadata": {},
   "outputs": [
    {
     "name": "stdout",
     "output_type": "stream",
     "text": [
      "Simulation:\n",
      "\n",
      "machine:\n",
      " [0.7, 0.5, 0.25, 0.1, 0.4, 0.9]\n",
      "moyennes estimées: \n",
      " [0.74 0.49 0.26 0.07 0.38 0.89]\n",
      "Courbe de regrets en fonction du temps\n"
     ]
    },
    {
     "data": {
      "image/png": "[encoded data removed]",
      "text/plain": [
       "<Figure size 432x288 with 1 Axes>"
      ]
     },
     "metadata": {
      "needs_background": "light"
     },
     "output_type": "display_data"
    }
   ],
   "source": [
    "simulation(algo_alea, machin, 1000)"
   ]
  },
  {
   "cell_type": "code",
   "execution_count": 12,
   "metadata": {},
   "outputs": [
    {
     "name": "stdout",
     "output_type": "stream",
     "text": [
      "Simulation:\n",
      "\n",
      "machine:\n",
      " [0.7, 0.5, 0.25, 0.1, 0.4, 0.9]\n",
      "moyennes estimées: \n",
      " [0.69 0.49 0.26 0.12 0.42 0.91]\n",
      "Courbe de regrets en fonction du temps\n"
     ]
    },
    {
     "data": {
      "image/png": "[encoded data removed]",
      "text/plain": [
       "<Figure size 432x288 with 1 Axes>"
      ]
     },
     "metadata": {
      "needs_background": "light"
     },
     "output_type": "display_data"
    }
   ],
   "source": [
    "simulation(algo_greedy, machin, 1000)"
   ]
  },
  {
   "cell_type": "code",
   "execution_count": 13,
   "metadata": {},
   "outputs": [
    {
     "name": "stdout",
     "output_type": "stream",
     "text": [
      "Simulation:\n",
      "\n",
      "machine:\n",
      " [0.7, 0.5, 0.25, 0.1, 0.4, 0.9]\n",
      "moyennes estimées: \n",
      " [0.7  0.45 0.26 0.11 0.45 0.9 ]\n",
      "Courbe de regrets en fonction du temps\n"
     ]
    },
    {
     "data": {
      "image/png": "[encoded data removed]",
      "text/plain": [
       "<Figure size 432x288 with 1 Axes>"
      ]
     },
     "metadata": {
      "needs_background": "light"
     },
     "output_type": "display_data"
    }
   ],
   "source": [
    "simulation(algo_e_greedy, machin,1000)"
   ]
  },
  {
   "cell_type": "code",
   "execution_count": 14,
   "metadata": {},
   "outputs": [
    {
     "name": "stdout",
     "output_type": "stream",
     "text": [
      "Simulation:\n",
      "\n",
      "machine:\n",
      " [0.7, 0.5, 0.25, 0.1, 0.4, 0.9]\n",
      "moyennes estimées: \n",
      " [0.66 0.53 0.32 0.23 0.36 0.9 ]\n",
      "Courbe de regrets en fonction du temps\n"
     ]
    },
    {
     "data": {
      "image/png": "[encoded data removed]",
      "text/plain": [
       "<Figure size 432x288 with 1 Axes>"
      ]
     },
     "metadata": {
      "needs_background": "light"
     },
     "output_type": "display_data"
    }
   ],
   "source": [
    "simulation(algo_ucb, machin, 1000)"
   ]
  },
  {
   "cell_type": "markdown",
   "metadata": {},
   "source": [
    "#Partie 2 : Morpion et Monte-Carlo"
   ]
  },
  {
   "cell_type": "code",
   "execution_count": 15,
   "metadata": {},
   "outputs": [],
   "source": [
    "import numpy as np\n",
    "\n",
    "import copy\n",
    "\n",
    "import matplotlib.pyplot as plt\n",
    "\n",
    "import matplotlib.patches as patches\n",
    "\n",
    "import random\n",
    "\n",
    "%matplotlib inline "
   ]
  },
  {
   "cell_type": "code",
   "execution_count": 16,
   "metadata": {},
   "outputs": [],
   "source": [
    "## Constante\n",
    "\n",
    "OFFSET = 0.2\n",
    "\n",
    "class State:\n",
    "\n",
    "    \"\"\" Etat generique d'un jeu de plateau. Le plateau est represente par une matrice de taille NX,NY,\n",
    "\n",
    "    le joueur courant par 1 ou -1. Une case a 0 correspond a une case libre.\n",
    "\n",
    "    * next(self,coup) : fait jouer le joueur courant le coup.\n",
    "\n",
    "    * get_actions(self) : renvoie les coups possibles\n",
    "\n",
    "    * win(self) : rend 1 si le joueur 1 a gagne, -1 si le joueur 2 a gagne, 0 sinon\n",
    "\n",
    "    * stop(self) : rend vrai si le jeu est fini.\n",
    "\n",
    "    * fonction de hashage : renvoie un couple (matrice applatie des cases, joueur courant).\n",
    "\n",
    "    \"\"\"\n",
    "\n",
    "    NX,NY = None,None\n",
    "\n",
    "    def __init__(self,grid=None,courant=None):\n",
    "\n",
    "        self.grid = copy.deepcopy(grid) if grid is not None else np.zeros((self.NX,self.NY),dtype=\"int\")\n",
    "\n",
    "        self.courant = courant or 1\n",
    "\n",
    "    def next(self,coup):\n",
    "\n",
    "        pass\n",
    "\n",
    "    def get_actions(self):\n",
    "\n",
    "        pass\n",
    "\n",
    "    def win(self):\n",
    "\n",
    "        pass\n",
    "\n",
    "    def stop(self):\n",
    "\n",
    "        pass\n",
    "\n",
    "    @classmethod\n",
    "\n",
    "    def fromHash(cls,hash):\n",
    "\n",
    "        return cls(np.array([int(i)-1 for i in list(hash[0])],dtype=\"int\").reshape((cls.NX,cls.NY)),hash[1])\n",
    "\n",
    "    def hash(self):\n",
    "\n",
    "        return (\"\".join(str(x+1) for x in self.grid.flat),self.courant)\n"
   ]
  },
  {
   "cell_type": "code",
   "execution_count": 17,
   "metadata": {},
   "outputs": [],
   "source": [
    "class Jeu:\n",
    "\n",
    "    \"\"\" Jeu generique, qui prend un etat initial et deux joueurs.\n",
    "\n",
    "        run(self,draw,pause): permet de joueur une partie, avec ou sans affichage, avec une pause entre chaque coup. \n",
    "\n",
    "                Rend le joueur qui a gagne et log de la partie a la fin.\n",
    "\n",
    "        replay(self,log): permet de rejouer un log\n",
    "\n",
    "    \"\"\"\n",
    "\n",
    "    def __init__(self,init_state = None,j1=None,j2=None):\n",
    "\n",
    "        self.joueurs = {1:j1,-1:j2}\n",
    "\n",
    "        self.state = copy.deepcopy(init_state)\n",
    "\n",
    "        self.log = None\n",
    "\n",
    "    def run(self,draw=False,pause=0.5):\n",
    "\n",
    "        log = []\n",
    "\n",
    "        if draw:\n",
    "\n",
    "            self.init_graph()\n",
    "\n",
    "        while not self.state.stop():\n",
    "\n",
    "            coup = self.joueurs[self.state.courant].get_action(self.state)\n",
    "\n",
    "            log.append((self.state,coup))\n",
    "\n",
    "            self.state = self.state.next(coup)\n",
    "\n",
    "            if draw:\n",
    "\n",
    "                self.draw(self.state.courant*-1,coup)\n",
    "\n",
    "                plt.pause(pause)\n",
    "\n",
    "        return self.state.win(),log\n",
    "\n",
    "    def init_graph(self):\n",
    "\n",
    "        self._dx,self._dy  = 1./self.state.NX,1./self.state.NY\n",
    "\n",
    "        self.fig, self.ax = plt.subplots()\n",
    "\n",
    "        for i in range(self.state.grid.shape[0]):\n",
    "\n",
    "            for j in range(self.state.grid.shape[1]):\n",
    "\n",
    "                self.ax.add_patch(patches.Rectangle((i*self._dx,j*self._dy),self._dx,self._dy,\\\n",
    "\n",
    "                        linewidth=1,fill=False,color=\"black\"))\n",
    "\n",
    "        plt.show(block=False)\n",
    "\n",
    "    def draw(self,joueur,coup):\n",
    "\n",
    "        color = \"red\" if joueur>0 else \"blue\"\n",
    "\n",
    "        self.ax.add_patch(patches.Rectangle(((coup[0]+OFFSET)*self._dx,(coup[1]+OFFSET)*self._dy),\\\n",
    "\n",
    "                        self._dx*(1-2*OFFSET),self._dy*(1-2*OFFSET),linewidth=1,fill=True,color=color))\n",
    "\n",
    "        plt.draw()\n",
    "\n",
    "    def replay(self,log,pause=0.5):\n",
    "\n",
    "        self.init_graph()\n",
    "\n",
    "        for state,coup in log:\n",
    "\n",
    "            self.draw(state.courant,coup)\n",
    "\n",
    "            plt.pause(pause)\n"
   ]
  },
  {
   "cell_type": "code",
   "execution_count": 18,
   "metadata": {},
   "outputs": [],
   "source": [
    "class MorpionState(State):\n",
    "\n",
    "\n",
    "    NX,NY = 3,3\n",
    "\n",
    "    def __init__(self,grid=None,courant=None):\n",
    "\n",
    "        super(MorpionState,self).__init__(grid,courant)\n",
    "\n",
    "    def next(self,coup):\n",
    "\n",
    "        state =  MorpionState(self.grid,self.courant)\n",
    "\n",
    "        state.grid[coup]=self.courant\n",
    "\n",
    "        state.courant *=-1\n",
    "\n",
    "        return state\n",
    "\n",
    "    def get_actions(self):\n",
    "\n",
    "        return list(zip(*np.where(self.grid==0)))\n",
    "\n",
    "    def win(self):\n",
    "\n",
    "        for i in [-1,1]:\n",
    "\n",
    "            if ((i*self.grid.sum(0))).max()==3 or ((i*self.grid.sum(1))).max()==3 or ((i*self.grid)).trace().max()==3 or ((i*np.fliplr(self.grid))).trace().max()==3: return i\n",
    "\n",
    "        return 0\n",
    "\n",
    "    def stop(self):\n",
    "\n",
    "        return self.win()!=0 or (self.grid==0).sum()==0\n",
    "\n",
    "    def __repr__(self):\n",
    "\n",
    "        return str(self.hash())\n"
   ]
  },
  {
   "cell_type": "code",
   "execution_count": 19,
   "metadata": {},
   "outputs": [],
   "source": [
    "\n",
    "class Agent:\n",
    "\n",
    "    \"\"\" Classe d'agent generique. Necessite une methode get_action qui renvoie l'action correspondant a l'etat du jeu state\"\"\"\n",
    "\n",
    "    def __init__(self):\n",
    "\n",
    "        pass\n",
    "\n",
    "    def get_action(self,state):\n",
    "\n",
    "        pass"
   ]
  },
  {
   "cell_type": "markdown",
   "metadata": {},
   "source": [
    "##Joueur aléatoire :"
   ]
  },
  {
   "cell_type": "code",
   "execution_count": 20,
   "metadata": {},
   "outputs": [],
   "source": [
    "class Joueur_Aleatoire(Agent):\n",
    "\n",
    "    def __init__(self,name):\n",
    "\n",
    "        self.name = name\n",
    "\n",
    "    \n",
    "\n",
    "    def get_action(self,state):\n",
    "\n",
    "        coups_possibles = state.get_actions() \n",
    "\n",
    "        return coups_possibles[random.randint(0,len(coups_possibles)-1)] \n"
   ]
  },
  {
   "cell_type": "markdown",
   "metadata": {},
   "source": [
    "##Joueur Monte-Carlo :"
   ]
  },
  {
   "cell_type": "code",
   "execution_count": 21,
   "metadata": {},
   "outputs": [],
   "source": [
    "class Joueur_MonteCarlo(Agent):\n",
    "\n",
    "    def __init__(self,name):\n",
    "\n",
    "        self.name = name\n",
    "\n",
    "\n",
    "    def get_action(self,state):\n",
    "\n",
    "        N=5\n",
    "\n",
    "        coups_possibles = state.get_actions()\n",
    "\n",
    "        n = len(coups_possibles)\n",
    "\n",
    "        res = np.zeros(n)\n",
    "\n",
    "        parties = np.zeros(n)\n",
    "\n",
    "        j1 = Joueur_Aleatoire('Player1')\n",
    "\n",
    "        j2 = Joueur_Aleatoire('Player2')\n",
    "\n",
    "        for i in range(N):\n",
    "\n",
    "            joueur_courant = state.courant\n",
    "\n",
    "            lancer = random.randint(0,len(coups_possibles)-1)\n",
    "\n",
    "            action = coups_possibles[lancer]\n",
    "\n",
    "            jeu = Jeu(state.next(action),j1,j2)\n",
    "\n",
    "            result = jeu.run()[0]\n",
    "\n",
    "            if  joueur_courant == result:\n",
    "\n",
    "                res[lancer] = float(res[lancer]*parties[lancer]+1)/float(parties[lancer]+1)\n",
    "\n",
    "            parties[lancer] +=1\n",
    "\n",
    "        return coups_possibles[np.argmax(res)]\n"
   ]
  },
  {
   "cell_type": "markdown",
   "metadata": {},
   "source": [
    "##Simulation:"
   ]
  },
  {
   "cell_type": "code",
   "execution_count": 22,
   "metadata": {},
   "outputs": [],
   "source": [
    "def N_run(j1, j2, N = 200):\n",
    "\n",
    "    \"\"\" Simule N parties d'un jeu du Morpion et retourne 3 tableaux avec les gains\n",
    "\n",
    "    du premier joueur, du deuxième joueur et de matchs. \"\"\"\n",
    "\n",
    "    vic_1 = np.zeros(N)\n",
    "\n",
    "    vic_2 = np.zeros(N)\n",
    "\n",
    "    nul = np.zeros(N)  \n",
    "\n",
    "    for i in range(N):\n",
    "\n",
    "        state = MorpionState()\n",
    "\n",
    "        jeu = Jeu(state, j1, j2)\n",
    "\n",
    "        victoire, _ = jeu.run()\n",
    "\n",
    "        nul[i] = nul[i - 1] + (victoire == 0)\n",
    "\n",
    "        vic_1[i] = vic_1[i - 1] + (victoire == 1)\n",
    "\n",
    "        vic_2[i] = vic_2[i - 1] + (victoire == -1)\n",
    "\n",
    "    return vic_1, vic_2, nul\n"
   ]
  },
  {
   "cell_type": "code",
   "execution_count": 23,
   "metadata": {},
   "outputs": [],
   "source": [
    "def graphe_victoires(j1, j2, N = 200):\n",
    "\n",
    "    \"\"\" Cree un graphe d'evolution des gains des 2 joueurs (et matchs muls) en N parties de Morpion. \"\"\"    \n",
    "\n",
    "    vic_1, vic_2, nul = N_run(j1, j2, N)\n",
    "\n",
    "    T = np.arange(N)\n",
    "\n",
    "    fig, ax = plt.subplots()\n",
    "\n",
    "    ax.grid(True)\n",
    "\n",
    "    ax.set_xlabel(\"N\") \n",
    "\n",
    "    ax.plot(T, vic_1, label = 'victoire joueur 1') \n",
    "\n",
    "    ax.plot(T, vic_2, label = 'victoire j2') \n",
    "\n",
    "    ax.plot(T, nul, label = 'égalité') \n",
    "\n",
    "    ax.legend(loc = \"upper right\")\n"
   ]
  },
  {
   "cell_type": "code",
   "execution_count": 24,
   "metadata": {},
   "outputs": [],
   "source": [
    "def graphe_vic_moy(j1, j2, N = 200):\n",
    "\n",
    "    \"\"\" Cree un graphe d’évolution de la moyenne du nombre de partie gagnée du premier joueur,\n",
    "\n",
    "    deuxième joueur et des matchs nuls en N parties de Morpion. \"\"\"    \n",
    "\n",
    "    vic_1, vic_2, nul = N_run(j1, j2, N)\n",
    "\n",
    "    T = np.arange(N) + 1\n",
    "\n",
    "    vic_1 = vic_1 / T\n",
    "\n",
    "    vic_2 = vic_2 / T   \n",
    "\n",
    "    nul= nul / T\n",
    "\n",
    "    \n",
    "\n",
    "    print('probabilité victoire joueur 1:',np.sum(vic_1)/len(T))\n",
    "\n",
    "    print('probabilité victoire joueur 2:',np.sum(vic_2)/len(T))\n",
    "\n",
    "    print('probabilité  match null:',np.sum(nul)/len(T))\n",
    "\n",
    "    \n",
    "\n",
    "    fig, ax = plt.subplots()\n",
    "\n",
    "    ax.grid(True)\n",
    "\n",
    "    ax.set_xlabel(\"N\") \n",
    "\n",
    "    ax.plot(T, vic_1, label = 'victoire j1') \n",
    "\n",
    "    ax.plot(T, vic_2, label = 'victoire j2') \n",
    "\n",
    "    ax.plot(T, nul, label = 'égalité') \n",
    "\n",
    "    ax.legend(loc = \"upper right\")"
   ]
  },
  {
   "cell_type": "code",
   "execution_count": 25,
   "metadata": {},
   "outputs": [
    {
     "name": "stdout",
     "output_type": "stream",
     "text": [
      "probabilité victoire joueur 1: 0.4675402368699986\n",
      "probabilité victoire joueur 2: 0.3075852479542599\n",
      "probabilité  match null: 0.22487451517574147\n"
     ]
    },
    {
     "data": {
      "image/png": "[encoded data removed]",
      "text/plain": [
       "<Figure size 432x288 with 1 Axes>"
      ]
     },
     "metadata": {
      "needs_background": "light"
     },
     "output_type": "display_data"
    }
   ],
   "source": [
    "\n",
    "j1 = Joueur_Aleatoire('a')\n",
    "\n",
    "j2 = Joueur_Aleatoire('b')\n",
    "\n",
    "N = 100\n",
    "\n",
    "graphe_vic_moy(j1, j2, N)"
   ]
  },
  {
   "cell_type": "code",
   "execution_count": 26,
   "metadata": {},
   "outputs": [
    {
     "name": "stdout",
     "output_type": "stream",
     "text": [
      "probabilité victoire joueur 1: 0.2594358200771254\n",
      "probabilité victoire joueur 2: 0.618908686479993\n",
      "probabilité  match null: 0.12165549344288165\n"
     ]
    },
    {
     "data": {
      "image/png": "[encoded data removed]",
      "text/plain": [
       "<Figure size 432x288 with 1 Axes>"
      ]
     },
     "metadata": {
      "needs_background": "light"
     },
     "output_type": "display_data"
    }
   ],
   "source": [
    "j1 = Joueur_Aleatoire('a')\n",
    "\n",
    "j2 = Joueur_MonteCarlo('b')\n",
    "\n",
    "N = 100\n",
    "\n",
    "graphe_vic_moy(j1, j2, N)\n"
   ]
  },
  {
   "cell_type": "code",
   "execution_count": 27,
   "metadata": {},
   "outputs": [
    {
     "name": "stdout",
     "output_type": "stream",
     "text": [
      "probabilité victoire joueur 1: 0.774824411592048\n",
      "probabilité victoire joueur 2: 0.15734977431118904\n",
      "probabilité  match null: 0.06782581409676275\n"
     ]
    },
    {
     "data": {
      "image/png": "[encoded data removed]",
      "text/plain": [
       "<Figure size 432x288 with 1 Axes>"
      ]
     },
     "metadata": {
      "needs_background": "light"
     },
     "output_type": "display_data"
    }
   ],
   "source": [
    "j1 = Joueur_MonteCarlo('a')\n",
    "\n",
    "j2 = Joueur_Aleatoire('b')\n",
    "\n",
    "N = 100\n",
    "\n",
    "graphe_vic_moy(j1, j2, N)"
   ]
  },
  {
   "cell_type": "code",
   "execution_count": 28,
   "metadata": {},
   "outputs": [
    {
     "name": "stdout",
     "output_type": "stream",
     "text": [
      "probabilité victoire joueur 1: 0.5812500086849817\n",
      "probabilité victoire joueur 2: 0.37639328085137264\n",
      "probabilité  match null: 0.04235671046364576\n"
     ]
    },
    {
     "data": {
      "image/png": "[encoded data removed]",
      "text/plain": [
       "<Figure size 432x288 with 1 Axes>"
      ]
     },
     "metadata": {
      "needs_background": "light"
     },
     "output_type": "display_data"
    }
   ],
   "source": [
    "j1 = Joueur_MonteCarlo('a')\n",
    "\n",
    "j2 = Joueur_MonteCarlo('b')\n",
    "\n",
    "N = 100\n",
    "\n",
    "graphe_vic_moy(j1, j2, N)\n"
   ]
  },
  {
   "cell_type": "code",
   "execution_count": null,
   "metadata": {},
   "outputs": [],
   "source": []
  }
 ],
 "metadata": {
  "kernelspec": {
   "display_name": "Python 3",
   "language": "python",
   "name": "python3"
  },
  "language_info": {
   "codemirror_mode": {
    "name": "ipython",
    "version": 3
   },
   "file_extension": ".py",
   "mimetype": "text/x-python",
   "name": "python",
   "nbconvert_exporter": "python",
   "pygments_lexer": "ipython3",
   "version": "3.6.7"
  }
 },
 "nbformat": 4,
 "nbformat_minor": 2
}
