{
 "cells": [
  {
   "cell_type": "markdown",
   "metadata": {},
   "source": [
    "### 3I005 Statistique et informatique -- DaoQuocHiep et BabaaliDhiya"
   ]
  },
  {
   "cell_type": "markdown",
   "metadata": {},
   "source": [
    "# Projet 1 : Exploration / Exploitation"
   ]
  },
  {
   "cell_type": "markdown",
   "metadata": {},
   "source": [
    "## Partie 1 : Bandits manchots"
   ]
  },
  {
   "cell_type": "code",
   "execution_count": 1,
   "metadata": {},
   "outputs": [],
   "source": [
    "import random\n",
    "import math\n",
    "import numpy as np\n",
    "import matplotlib.pyplot as plt\n",
    "%matplotlib inline "
   ]
  },
  {
   "cell_type": "markdown",
   "metadata": {},
   "source": [
    "### Fonction de jeu  :"
   ]
  },
  {
   "cell_type": "code",
   "execution_count": 2,
   "metadata": {},
   "outputs": [],
   "source": [
    "def jouer(machine, action):\n",
    "    \"\"\" Simule l'action d'un levier sur une machine\n",
    "    - machine : liste des distributions de récompense de chaque levier\n",
    "    - action : indice du levier choisi\n",
    "    retourne la récompense obtenue\n",
    "    \"\"\"\n",
    "    proba = machine[action]\n",
    "    n = random.random()\n",
    "    if n < proba :\n",
    "        return 1\n",
    "    else :\n",
    "        return 0"
   ]
  },
  {
   "cell_type": "markdown",
   "metadata": {},
   "source": [
    "Test de la fonction :"
   ]
  },
  {
   "cell_type": "code",
   "execution_count": 5,
   "metadata": {},
   "outputs": [
    {
     "data": {
      "text/plain": [
       "1"
      ]
     },
     "execution_count": 5,
     "metadata": {},
     "output_type": "execute_result"
    }
   ],
   "source": [
    "jouer([0, 0.5, 0.7, 0.1, 1], 2)"
   ]
  },
  {
   "cell_type": "markdown",
   "metadata": {},
   "source": [
    "### Algorithmes de choix :"
   ]
  },
  {
   "cell_type": "markdown",
   "metadata": {},
   "source": [
    "#### Aglorithme aléatoire :"
   ]
  },
  {
   "cell_type": "code",
   "execution_count": 3,
   "metadata": {},
   "outputs": [],
   "source": [
    "def algo_aleatoire(moyennes_estim, liste_ni):\n",
    "    \"\"\" Choisit uniformément parmis toutes les actions possibles\n",
    "    - moyennes_estim : liste des récompenses moyennes estimées\n",
    "    - list_ni : liste contemant le nombre de fois où chaque levier a été joué\n",
    "    retourne l'action choisie \"\"\"\n",
    "    return random.randint(0,len(moyennes_estim)-1)"
   ]
  },
  {
   "cell_type": "markdown",
   "metadata": {},
   "source": [
    "#### Algorithme greedy :"
   ]
  },
  {
   "cell_type": "code",
   "execution_count": 4,
   "metadata": {},
   "outputs": [],
   "source": [
    "#Constante\n",
    "n = 500 #nombre d'itérations consacrées à l'itération\n",
    "\n",
    "def algo_greedy(moyennes_estim, liste_ni):\n",
    "    \"\"\" Choisit une action en suivant l'algorithme greedy\n",
    "    - moyennes_estim : liste des récompenses moyennes estimées\n",
    "    - list_ni : liste contenant le nombre de fois où chaque levier a été joué\n",
    "    retourne l'action choisie \"\"\"  \n",
    "    if np.sum(liste_ni) < n : #EXPLORATION\n",
    "        return algo_aleatoire(moyennes_estim, liste_ni)\n",
    "    else : #EXPLOITATION\n",
    "        return np.argmax(moyennes_estim)"
   ]
  },
  {
   "cell_type": "markdown",
   "metadata": {},
   "source": [
    "#### Algorithme e-greedy :"
   ]
  },
  {
   "cell_type": "code",
   "execution_count": 5,
   "metadata": {},
   "outputs": [],
   "source": [
    "#Constante\n",
    "epsilon = 0.5\n",
    "\n",
    "def algo_e_greedy(moyennes_estim, liste_ni):\n",
    "    \"\"\" Choisit une action en suivant l'algorithme e-greedy\n",
    "    - moyennes_estim : liste des récompenses moyennes estimées\n",
    "    - list_ni : liste contenant le nombre de fois où chaque levier a été joué\n",
    "    retourne l'action choisie \"\"\"\n",
    "    i = random.random()\n",
    "    if i<epsilon : #EXPLORATION\n",
    "        return algo_aleatoire(moyennes_estim, liste_ni)\n",
    "    else : #EXPLOITATION\n",
    "        return np.argmax(moyennes_estim)"
   ]
  },
  {
   "cell_type": "markdown",
   "metadata": {},
   "source": [
    "#### Algorithme UCB :"
   ]
  },
  {
   "cell_type": "code",
   "execution_count": 6,
   "metadata": {},
   "outputs": [],
   "source": [
    "def algo_ucb(moyennes_estim, liste_ni):\n",
    "    \"\"\" Choisit une action en suivant l'algorithme UCB\n",
    "    - moyennes_estim : liste des récompenses moyennes estimées\n",
    "    - list_ni : liste contemant le nombre de fois où chaque levier a été joué\n",
    "    retourne l'action choisie \"\"\"\n",
    "    t = np.sum(liste_ni) #temps\n",
    "    \n",
    "    for i in range(len(liste_ni)): #On teste 1 fois chaque levier pour s'assurer de ne pas avoir de valeur nulle dans liste_ni\n",
    "        if liste_ni[i] ==  0 :\n",
    "            return i\n",
    "        \n",
    "    liste_ucb = [moyennes_estim[i] + math.sqrt(2*math.log(t)/liste_ni[i]) for i in range(len(moyennes_estim))]\n",
    "    \n",
    "    return np.argmax(liste_ucb)"
   ]
  },
  {
   "cell_type": "markdown",
   "metadata": {},
   "source": [
    "#### Simulation"
   ]
  },
  {
   "cell_type": "code",
   "execution_count": 7,
   "metadata": {},
   "outputs": [],
   "source": [
    "def simulation(algorithme, machine, nb_iterations):\n",
    "    \"\"\"Simule un jeu de machines à sous : On tire sur les leviers en suivant un algorithme choisi\n",
    "    Affiche les estimations trouvées pour chaque levier et le regret en fonction du temps\n",
    "    - algorithme : algorithme choisi\n",
    "    - machine : liste des probalités de gagner par levier\n",
    "    - nb_iterations : nombre de tirages\"\"\"\n",
    "    \n",
    "    moyennes_estim = np.array([0.0 for i in range(len(machine))])\n",
    "    liste_gains = np.array([0.0 for i in range(len(machine))])\n",
    "    liste_ni = np.array([0 for i in range(len(machine))])\n",
    "    liste_regret = np.array([0 for i in range(nb_iterations)])\n",
    "    gain_ideal = 0\n",
    "    action_ideale = np.argmax(machine)\n",
    "    \n",
    "    for i in range(nb_iterations):\n",
    "        action = algorithme(moyennes_estim, liste_ni)\n",
    "        gain = jouer(machine, action)\n",
    "        gain_ideal += jouer(machine, action_ideale)\n",
    "        liste_gains[action] += gain\n",
    "        liste_ni[action] += 1\n",
    "        moyennes_estim[action] = round(liste_gains[action] / liste_ni[action], 2)\n",
    "        liste_regret[i] = gain_ideal-np.sum(liste_gains)\n",
    "    print(\"Résultats de la simulation :\\n\")\n",
    "    print(\"machine : \\n\", machine, sep=\" \")\n",
    "    print(\"moyennes estimées : \\n\", moyennes_estim, sep=\" \")\n",
    "    print(\"\\nRegret en fonction du temps :\")\n",
    "    plt.plot([i for i in range(nb_iterations)], liste_regret)\n",
    "    plt.xlabel(\"Temps\")\n",
    "    plt.ylabel(\"Regret\")\n",
    "    plt.show()"
   ]
  },
  {
   "cell_type": "markdown",
   "metadata": {},
   "source": [
    "### Tests :"
   ]
  },
  {
   "cell_type": "code",
   "execution_count": 11,
   "metadata": {},
   "outputs": [],
   "source": [
    "machineTest = [0.7, 0.5, 0.25, 1, 0.4, 0.9]\n",
    "T = 50"
   ]
  },
  {
   "cell_type": "code",
   "execution_count": 12,
   "metadata": {},
   "outputs": [
    {
     "name": "stdout",
     "output_type": "stream",
     "text": [
      "Résultats de la simulation :\n",
      "\n",
      "machine : \n",
      " [0.7, 0.5, 0.25, 1, 0.4, 0.9]\n",
      "moyennes estimées : \n",
      " [0.75 0.5  0.21 1.   0.32 0.89]\n",
      "\n",
      "Regret en fonction du temps :\n"
     ]
    },
    {
     "data": {
      "image/png": "[encoded data removed]",
      "text/plain": [
       "<Figure size 432x288 with 1 Axes>"
      ]
     },
     "metadata": {
      "needs_background": "light"
     },
     "output_type": "display_data"
    }
   ],
   "source": [
    "simulation(algo_aleatoire, machineTest, 1000)"
   ]
  },
  {
   "cell_type": "markdown",
   "metadata": {},
   "source": [
    "On observe que le regret augmente de façon linéaire."
   ]
  },
  {
   "cell_type": "code",
   "execution_count": 13,
   "metadata": {},
   "outputs": [
    {
     "name": "stdout",
     "output_type": "stream",
     "text": [
      "Résultats de la simulation :\n",
      "\n",
      "machine : \n",
      " [0.7, 0.5, 0.25, 1, 0.4, 0.9]\n",
      "moyennes estimées : \n",
      " [0.58 0.53 0.21 1.   0.4  0.91]\n",
      "\n",
      "Regret en fonction du temps :\n"
     ]
    },
    {
     "data": {
      "image/png": "[encoded data removed]",
      "text/plain": [
       "<Figure size 432x288 with 1 Axes>"
      ]
     },
     "metadata": {
      "needs_background": "light"
     },
     "output_type": "display_data"
    }
   ],
   "source": [
    "simulation(algo_greedy, machineTest, 1000)"
   ]
  },
  {
   "cell_type": "markdown",
   "metadata": {},
   "source": [
    "La courbe du regret en fonction du temps est linéaire pendant la phase d'exploration, puis se stabilise lorsqu'il passe à l'exploitation, à condition qu'il ait bien trouvé la bonne machine."
   ]
  },
  {
   "cell_type": "code",
   "execution_count": 14,
   "metadata": {},
   "outputs": [
    {
     "name": "stdout",
     "output_type": "stream",
     "text": [
      "Résultats de la simulation :\n",
      "\n",
      "machine : \n",
      " [0.7, 0.5, 0.25, 1, 0.4, 0.9]\n",
      "moyennes estimées : \n",
      " [0.75 0.47 0.27 1.   0.4  0.84]\n",
      "\n",
      "Regret en fonction du temps :\n"
     ]
    },
    {
     "data": {
      "image/png": "[encoded data removed]",
      "text/plain": [
       "<Figure size 432x288 with 1 Axes>"
      ]
     },
     "metadata": {
      "needs_background": "light"
     },
     "output_type": "display_data"
    }
   ],
   "source": [
    "simulation(algo_e_greedy, machineTest, 1000)"
   ]
  },
  {
   "cell_type": "markdown",
   "metadata": {},
   "source": [
    "Le regret est linéaire par rapport au temps mais la pente de la courbe est plus faible qu'avec l'algorithme aléatoire."
   ]
  },
  {
   "cell_type": "code",
   "execution_count": 15,
   "metadata": {},
   "outputs": [
    {
     "name": "stdout",
     "output_type": "stream",
     "text": [
      "Résultats de la simulation :\n",
      "\n",
      "machine : \n",
      " [0.7, 0.5, 0.25, 1, 0.4, 0.9]\n",
      "moyennes estimées : \n",
      " [0.69 0.47 0.24 1.   0.33 0.89]\n",
      "\n",
      "Regret en fonction du temps :\n"
     ]
    },
    {
     "data": {
      "image/png": "[encoded data removed]",
      "text/plain": [
       "<Figure size 432x288 with 1 Axes>"
      ]
     },
     "metadata": {
      "needs_background": "light"
     },
     "output_type": "display_data"
    }
   ],
   "source": [
    "simulation(algo_ucb, machineTest, 1000)"
   ]
  },
  {
   "cell_type": "markdown",
   "metadata": {},
   "source": [
    "Regret faible par rapport aux autres algorithmes -> c'est l'algorithme le plus efficace"
   ]
  },
  {
   "cell_type": "markdown",
   "metadata": {},
   "source": [
    "## Partie 2 : Morpion et Monte-Carlo"
   ]
  },
  {
   "cell_type": "code",
   "execution_count": 8,
   "metadata": {},
   "outputs": [],
   "source": [
    "import numpy as np\n",
    "import copy\n",
    "import matplotlib.pyplot as plt\n",
    "import matplotlib.patches as patches\n",
    "import random\n",
    "%matplotlib inline \n",
    "## Constante\n",
    "OFFSET = 0.2"
   ]
  },
  {
   "cell_type": "code",
   "execution_count": 9,
   "metadata": {},
   "outputs": [],
   "source": [
    "class State:\n",
    "    \"\"\" Etat generique d'un jeu de plateau. Le plateau est represente par une matrice de taille NX,NY,\n",
    "    le joueur courant par 1 ou -1. Une case a 0 correspond a une case libre.\n",
    "    * next(self,coup) : fait jouer le joueur courant le coup.\n",
    "    * get_actions(self) : renvoie les coups possibles\n",
    "    * win(self) : rend 1 si le joueur 1 a gagne, -1 si le joueur 2 a gagne, 0 sinon\n",
    "    * stop(self) : rend vrai si le jeu est fini.\n",
    "    * fonction de hashage : renvoie un couple (matrice applatie des cases, joueur courant).\n",
    "    \"\"\"\n",
    "    NX,NY = None,None\n",
    "    def __init__(self,grid=None,courant=None):\n",
    "        self.grid = copy.deepcopy(grid) if grid is not None else np.zeros((self.NX,self.NY),dtype=\"int\")\n",
    "        self.courant = courant or 1\n",
    "    def next(self,coup):\n",
    "        pass\n",
    "    def get_actions(self):\n",
    "        pass\n",
    "    def win(self):\n",
    "        pass\n",
    "    def stop(self):\n",
    "        pass\n",
    "    @classmethod\n",
    "    def fromHash(cls,hash):\n",
    "        return cls(np.array([int(i)-1 for i in list(hash[0])],dtype=\"int\").reshape((cls.NX,cls.NY)),hash[1])\n",
    "    def hash(self):\n",
    "        return (\"\".join(str(x+1) for x in self.grid.flat),self.courant)"
   ]
  },
  {
   "cell_type": "code",
   "execution_count": 10,
   "metadata": {},
   "outputs": [],
   "source": [
    "class Jeu:\n",
    "    \"\"\" Jeu generique, qui prend un etat initial et deux joueurs.\n",
    "        run(self,draw,pause): permet de joueur une partie, avec ou sans affichage, avec une pause entre chaque coup. \n",
    "                Rend le joueur qui a gagne et log de la partie a la fin.\n",
    "        replay(self,log): permet de rejouer un log\n",
    "    \"\"\"\n",
    "    def __init__(self,init_state = None,j1=None,j2=None):\n",
    "        self.joueurs = {1:j1,-1:j2}\n",
    "        self.state = copy.deepcopy(init_state)\n",
    "        self.log = None\n",
    "    def run(self,draw=False,pause=0.5):\n",
    "        log = []\n",
    "        if draw:\n",
    "            self.init_graph()\n",
    "        while not self.state.stop():\n",
    "            coup = self.joueurs[self.state.courant].get_action(self.state)\n",
    "            log.append((self.state,coup))\n",
    "            self.state = self.state.next(coup)\n",
    "            if draw:\n",
    "                self.draw(self.state.courant*-1,coup)\n",
    "                plt.pause(pause)\n",
    "        return self.state.win(),log\n",
    "    def init_graph(self):\n",
    "        self._dx,self._dy  = 1./self.state.NX,1./self.state.NY\n",
    "        self.fig, self.ax = plt.subplots()\n",
    "        for i in range(self.state.grid.shape[0]):\n",
    "            for j in range(self.state.grid.shape[1]):\n",
    "                self.ax.add_patch(patches.Rectangle((i*self._dx,j*self._dy),self._dx,self._dy,\\\n",
    "                        linewidth=1,fill=False,color=\"black\"))\n",
    "        plt.show(block=False)\n",
    "    def draw(self,joueur,coup):\n",
    "        color = \"red\" if joueur>0 else \"blue\"\n",
    "        self.ax.add_patch(patches.Rectangle(((coup[0]+OFFSET)*self._dx,(coup[1]+OFFSET)*self._dy),\\\n",
    "                        self._dx*(1-2*OFFSET),self._dy*(1-2*OFFSET),linewidth=1,fill=True,color=color))\n",
    "        plt.draw()\n",
    "    def replay(self,log,pause=0.5):\n",
    "        self.init_graph()\n",
    "        for state,coup in log:\n",
    "            self.draw(state.courant,coup)\n",
    "            plt.pause(pause)"
   ]
  },
  {
   "cell_type": "code",
   "execution_count": 11,
   "metadata": {},
   "outputs": [],
   "source": [
    "class MorpionState(State):\n",
    "    \"\"\" Implementation d'un etat du jeu du Morpion. Grille de 3X3. \n",
    "    \"\"\"\n",
    "    NX,NY = 3,3\n",
    "    def __init__(self,grid=None,courant=None):\n",
    "        super(MorpionState,self).__init__(grid,courant)\n",
    "    def next(self,coup):\n",
    "        state =  MorpionState(self.grid,self.courant)\n",
    "        state.grid[coup]=self.courant\n",
    "        state.courant *=-1\n",
    "        return state\n",
    "    def get_actions(self):\n",
    "        return list(zip(*np.where(self.grid==0)))\n",
    "    def win(self):\n",
    "        for i in [-1,1]:\n",
    "            if ((i*self.grid.sum(0))).max()==3 or ((i*self.grid.sum(1))).max()==3 or ((i*self.grid)).trace().max()==3 or ((i*np.fliplr(self.grid))).trace().max()==3: return i\n",
    "        return 0\n",
    "    def stop(self):\n",
    "        return self.win()!=0 or (self.grid==0).sum()==0\n",
    "    def __repr__(self):\n",
    "        return str(self.hash())"
   ]
  },
  {
   "cell_type": "code",
   "execution_count": 12,
   "metadata": {},
   "outputs": [],
   "source": [
    "class Agent:\n",
    "    \"\"\" Classe d'agent generique. Necessite une methode get_action qui renvoie l'action correspondant a l'etat du jeu state\"\"\"\n",
    "    def __init__(self):\n",
    "        pass\n",
    "    def get_action(self,state):\n",
    "        pass"
   ]
  },
  {
   "cell_type": "markdown",
   "metadata": {},
   "source": [
    "### Implémentation du jouer Aléatoire :"
   ]
  },
  {
   "cell_type": "code",
   "execution_count": 17,
   "metadata": {},
   "outputs": [],
   "source": [
    "class Joueur_Aleatoire(Agent):\n",
    "    \"\"\" Heriter la class Agent\n",
    "    \"\"\"\n",
    "    def __init__(self,nom):\n",
    "        self.nom = nom\n",
    "    \n",
    "    def get_action(self,state):\n",
    "        liste_case_possible = state.get_actions() #recupere la liste des cases vides\n",
    "        lancer = random.randint(0,len(liste_case_possible)-1) #choisir un index aléatoire des case possibles\n",
    "        return liste_case_possible[lancer] #retourner la case"
   ]
  },
  {
   "cell_type": "markdown",
   "metadata": {},
   "source": [
    "### Implémentation du jouer Monte Carlo:"
   ]
  },
  {
   "cell_type": "code",
   "execution_count": 18,
   "metadata": {},
   "outputs": [],
   "source": [
    "class Joueur_MonteCarlo(Agent):\n",
    "    \"\"\" Heriter la class Agent\n",
    "    \"\"\"\n",
    "    def __init__(self,nom):\n",
    "        self.nom = nom\n",
    "        \n",
    "    #def update_recompense(recompense,action,joueur_courant,res):\n",
    "    #    index_i = action[0]\n",
    "    #    index_j = action[1]\n",
    "    #    if  joueur_courant == res:\n",
    "    #        recompense[i][j] = recompense[index_i][index_j] + 1\n",
    "    #    elif joueur_courant != res and res != 0:\n",
    "    #        recompense[i][j] = recompense[index_i][index_j] - 1\n",
    "\n",
    "    \n",
    "    def get_action(self,state):\n",
    "        \n",
    "        N=5\n",
    "        liste_case_possible = state.get_actions() #recupere la liste des cases vides\n",
    "        n = len(liste_case_possible)\n",
    "        \n",
    "        res = np.zeros(n)\n",
    "        parties = np.zeros(n)\n",
    "        j_1 = Joueur_Aleatoire('af')\n",
    "        j_2 = Joueur_Aleatoire('bs')\n",
    "        for i in range(N):\n",
    "            \n",
    "            joueur_courant = state.courant\n",
    "            lancer = random.randint(0,len(liste_case_possible)-1) #choisir un index aléatoire des case possibles\n",
    "            action = liste_case_possible[lancer] #retourner la case\n",
    "\n",
    "            jeu = Jeu(state.next(action),j_1,j_2)\n",
    "            resultat_partie = jeu.run()[0]\n",
    "            if  joueur_courant == resultat_partie: #resultat du jeu soit 1 -1 0\n",
    "                res[lancer] = float(float(res[lancer]*parties[lancer]+1)/float(parties[lancer]+1))\n",
    "            parties[lancer] +=1\n",
    "        return liste_case_possible[np.argmax(res)]"
   ]
  },
  {
   "cell_type": "markdown",
   "metadata": {},
   "source": [
    "### Implémentation du jouer Monte Carlo Tree Search:"
   ]
  },
  {
   "cell_type": "code",
   "execution_count": 20,
   "metadata": {},
   "outputs": [],
   "source": [
    "class AgentMTTS(Agent):\n",
    "    \"\"\"\n",
    "    \"\"\"\n",
    "    def __init__(self, n = 20):\n",
    "        super(AgentMTTS, self).__init__()\n",
    "        self.N = n\n",
    "    \n",
    "    def get_action(self, state):\n",
    "        #initialisation du noeud racine\n",
    "        racine = Noeud(state)\n",
    "        #initialisation du joueur aleatoire\n",
    "        j1 = Joueur_Aleatoire('j_1')\n",
    "        \n",
    "        #recuperation des coups possibles a partir de state\n",
    "        coups_possibles = state.get_actions()\n",
    "        \n",
    "        #creation de noeuds representant tous les coups possibles en sortant de la racine\n",
    "        #on joue une fois aléatoirement a partir des coups possibles pour remplir les noeuds\n",
    "        for i in range(len(coups_possibles)):\n",
    "            state_try = state.next(coups_possibles[i])\n",
    "            enfant = Noeud(state_try, racine)\n",
    "            racine.kids[coups_possibles[i]] = enfant\n",
    "            jeu = Jeu(state_try, j1, j1)\n",
    "            victoire, _ = jeu.run()\n",
    "            enfant.maj(-victoire)\n",
    "        \n",
    "        for i in range(self.N * len(coups_possibles)):\n",
    "            nd = racine\n",
    "            #print(\"wins racine =\" + str(nd.wins))\n",
    "            #print(\"total racine =\" + str(nd.total))\n",
    "            nd = nd.choix_ucb()\n",
    "            jeu = Jeu(nd.state, j1, j1)\n",
    "            victoire, _ = jeu.run()\n",
    "            #print(nd.state.courant)\n",
    "            nd.maj(-victoire)\n",
    "       # print(\"fin d'un tour \\n\")\n",
    "        return max(racine.kids, key = lambda k: racine.kids[k].loss/racine.kids[k].total)"
   ]
  },
  {
   "cell_type": "code",
   "execution_count": 22,
   "metadata": {},
   "outputs": [],
   "source": [
    "class Noeud:\n",
    "    \"\"\"\n",
    "    \"\"\"\n",
    "    def __init__(self, state, parent = None):\n",
    "        self.state = state\n",
    "        self.parent = parent\n",
    "        self.kids = {}\n",
    "        self.loss = 0\n",
    "        self.total = 0\n",
    "        \n",
    "    def maj(self, i):\n",
    "        self.loss += i * self.state.courant\n",
    "        self.total += 1\n",
    "        if self.parent is not None:\n",
    "            self.parent.maj(i)\n",
    "        \n",
    "    def choix_ucb(self):\n",
    "        #recuperation du state lie au noeud courant\n",
    "        state_par = self.state\n",
    "        #si on est dans un state terminal, on retourne le noeud courant\n",
    "        if state_par.stop():\n",
    "            return self\n",
    "        #on teste si la liste des enfants de ce noeud a ete deja initialise.\n",
    "        #si c'est pas le cas, on l'initialise\n",
    "        if self.kids == {}:\n",
    "            cp = state_par.get_actions()\n",
    "            for i in range (len(cp)):\n",
    "                state_try = state_par.next(cp[i])\n",
    "                enfant = Noeud(state_try, self)\n",
    "                self.kids[cp[i]] = enfant \n",
    "        #s'il y a un enfant qui n'a pas encore ete testé (total = 0), on le retourne\n",
    "        for i in self.kids:\n",
    "            if self.kids[i].total == 0:\n",
    "                return self.kids[i]\n",
    "        #tous les enfants on ete visités au moins un fois, on aplique l'algo UCB\n",
    "        #et on appele la fonction de façon recursive sur l'enfant choisi    \n",
    "        t = sum([noeud.total for noeud in self.kids.values()])\n",
    "        #print(max(self.kids, key = lambda k: self.kids[k].wins / self.kids[k].total + np.sqrt(2*np.log(t)/ self.kids[k].total)))\n",
    "        return self.kids[max(self.kids, key = lambda k: self.kids[k].loss / self.kids[k].total + np.sqrt(2*np.log(t)/ self.kids[k].total))].choix_ucb()"
   ]
  },
  {
   "cell_type": "markdown",
   "metadata": {},
   "source": [
    "### Simulation:"
   ]
  },
  {
   "cell_type": "code",
   "execution_count": 36,
   "metadata": {},
   "outputs": [],
   "source": [
    "def N_run(j1, j2, N = 200):\n",
    "    \"\"\"\n",
    "    Simule N parties d'un jeu du Morphion et retourne 3 tableaux avec les gains\n",
    "    du premier joueur, du deuxième joueur et de matchs muls en N parties.\n",
    "    \"\"\"\n",
    "    vic_1 = np.zeros(N)\n",
    "    vic_2 = np.zeros(N)\n",
    "    nul = np.zeros(N)  \n",
    "    for i in range(N):\n",
    "        state = MorpionState()\n",
    "        jeu = Jeu(state, j1, j2)\n",
    "        victoire, _ = jeu.run()\n",
    "        nul[i] = nul[i - 1] + (victoire == 0)\n",
    "        vic_1[i] = vic_1[i - 1] + (victoire == 1)\n",
    "        vic_2[i] = vic_2[i - 1] + (victoire == -1)\n",
    "    return vic_1, vic_2, nul\n",
    "\n",
    "\n",
    "def graphe_victoires(j1, j2, N = 200):\n",
    "    \"\"\"\n",
    "    Cree un graphe d'evolution des gains des 2 joueurs (et matchs muls) en N parties du jeu du Morpion.\n",
    "    \"\"\"    \n",
    "    vic_1, vic_2, nul = N_run(j1, j2, N)\n",
    "    T = np.arange(N)\n",
    "    fig, ax = plt.subplots()\n",
    "    ax.grid(True)\n",
    "    ax.set_xlabel(\"N\") \n",
    "    ax.plot(T, vic_1, label = 'victoire j1') \n",
    "    ax.plot(T, vic_2, label = 'victoire j2') \n",
    "    ax.plot(T, nul, label = 'nul') \n",
    "    ax.legend(loc = \"upper left\")\n",
    "    \n",
    "def graphe_vic_moy(j1, j2, N = 200):\n",
    "    \"\"\"\n",
    "    Cree un graphe d’évolution de la moyenne du nombre de partie gagnée du premier joueur,\n",
    "    deuxième joueur et des matchs nuls en N parties du jeu du Morpion.\n",
    "    \"\"\"    \n",
    "    vic_1, vic_2, nul = N_run(j1, j2, N)\n",
    "    T = np.arange(N) + 1\n",
    "    vic_1 = vic_1 / T\n",
    "    vic_2 = vic_2 / T   \n",
    "    nul= nul / T\n",
    "    \n",
    "    print('proba j1:',np.sum(vic_1)/len(T))\n",
    "    print('proba j2:',np.sum(vic_2)/len(T))\n",
    "    print('proba match null:',np.sum(nul)/len(T))\n",
    "    \n",
    "    fig, ax = plt.subplots()\n",
    "    ax.grid(True)\n",
    "    ax.set_xlabel(\"N\") \n",
    "    ax.plot(T, vic_1, label = 'victoire j1') \n",
    "    ax.plot(T, vic_2, label = 'victoire j2') \n",
    "    ax.plot(T, nul, label = 'nul') \n",
    "    ax.legend(loc = \"upper left\")"
   ]
  },
  {
   "cell_type": "markdown",
   "metadata": {},
   "source": [
    "### Test : "
   ]
  },
  {
   "cell_type": "markdown",
   "metadata": {},
   "source": [
    "#### Joueur aléatoire contre joueur aléatoire"
   ]
  },
  {
   "cell_type": "code",
   "execution_count": 39,
   "metadata": {},
   "outputs": [
    {
     "name": "stdout",
     "output_type": "stream",
     "text": [
      "proba j1: 0.6189747625839539\n",
      "proba j2: 0.2648243584623001\n",
      "proba match null: 0.11620087895374612\n"
     ]
    },
    {
     "data": {
      "image/png": "[encoded data removed]",
      "text/plain": [
       "<Figure size 432x288 with 1 Axes>"
      ]
     },
     "metadata": {
      "needs_background": "light"
     },
     "output_type": "display_data"
    }
   ],
   "source": [
    "j1 = Joueur_Aleatoire('a')\n",
    "j2 = Joueur_Aleatoire('b')\n",
    "N = 100\n",
    "graphe_vic_moy(j1, j2, N)"
   ]
  },
  {
   "cell_type": "markdown",
   "metadata": {},
   "source": [
    "Le premier joueur gagne plus que le dexième joueur quand les deux jouent aléatoirement, Ce qui joue au premier a plus advantage de gagner. "
   ]
  },
  {
   "cell_type": "markdown",
   "metadata": {},
   "source": [
    "#### Joueur aléatoire contre joueur Monte Carlo"
   ]
  },
  {
   "cell_type": "code",
   "execution_count": 40,
   "metadata": {},
   "outputs": [
    {
     "name": "stdout",
     "output_type": "stream",
     "text": [
      "proba j1: 0.32698322854744555\n",
      "proba j2: 0.6728157613515444\n",
      "proba match null: 0.00020101010101010103\n"
     ]
    },
    {
     "data": {
      "image/png": "[encoded data removed]",
      "text/plain": [
       "<Figure size 432x288 with 1 Axes>"
      ]
     },
     "metadata": {
      "needs_background": "light"
     },
     "output_type": "display_data"
    }
   ],
   "source": [
    "j1 = Joueur_Aleatoire('a')\n",
    "j2 = Joueur_MonteCarlo('b')\n",
    "N = 100\n",
    "graphe_vic_moy(j1, j2, N)"
   ]
  },
  {
   "cell_type": "markdown",
   "metadata": {},
   "source": [
    "#### Joueur Monte Carlo contre joueur aléatoire"
   ]
  },
  {
   "cell_type": "code",
   "execution_count": 41,
   "metadata": {},
   "outputs": [
    {
     "name": "stdout",
     "output_type": "stream",
     "text": [
      "proba j1: 0.7861386884831775\n",
      "proba j2: 0.09203939420457935\n",
      "proba match null: 0.1218219173122431\n"
     ]
    },
    {
     "data": {
      "image/png": "[encoded data removed]",
      "text/plain": [
       "<Figure size 432x288 with 1 Axes>"
      ]
     },
     "metadata": {
      "needs_background": "light"
     },
     "output_type": "display_data"
    }
   ],
   "source": [
    "j1 = Joueur_MonteCarlo('a')\n",
    "j2 = Joueur_Aleatoire('b')\n",
    "N = 100\n",
    "graphe_vic_moy(j1, j2, N)"
   ]
  },
  {
   "cell_type": "markdown",
   "metadata": {},
   "source": [
    "Dans les deux cas, on trouve que le joueur Monte Carlo a une propabilité gagnée plus grande que le joueur aléatoire"
   ]
  },
  {
   "cell_type": "markdown",
   "metadata": {},
   "source": [
    "#### Joueur  Monte Carlo contre joueur Monte Carlo"
   ]
  },
  {
   "cell_type": "code",
   "execution_count": 42,
   "metadata": {},
   "outputs": [
    {
     "name": "stdout",
     "output_type": "stream",
     "text": [
      "proba j1: 0.6185468824286345\n",
      "proba j2: 0.3565474753771952\n",
      "proba match null: 0.02490564219417025\n"
     ]
    },
    {
     "data": {
      "image/png": "[encoded data removed]",
      "text/plain": [
       "<Figure size 432x288 with 1 Axes>"
      ]
     },
     "metadata": {
      "needs_background": "light"
     },
     "output_type": "display_data"
    }
   ],
   "source": [
    "j1 = Joueur_MonteCarlo('a')\n",
    "j2 = Joueur_MonteCarlo('b')\n",
    "N = 100\n",
    "graphe_vic_moy(j1, j2, N)"
   ]
  },
  {
   "cell_type": "markdown",
   "metadata": {},
   "source": [
    "Commentaire : (ajouter)"
   ]
  },
  {
   "cell_type": "markdown",
   "metadata": {},
   "source": [
    "#### Joueur Monte Carlo Research Tree contre joueur Monte Carlo"
   ]
  },
  {
   "cell_type": "code",
   "execution_count": 45,
   "metadata": {},
   "outputs": [
    {
     "name": "stdout",
     "output_type": "stream",
     "text": [
      "proba j1: 0.9880760961328078\n",
      "proba j2: 0.0\n",
      "proba match null: 0.011923903867192292\n"
     ]
    },
    {
     "data": {
      "image/png": "[encoded data removed]",
      "text/plain": [
       "<Figure size 432x288 with 1 Axes>"
      ]
     },
     "metadata": {
      "needs_background": "light"
     },
     "output_type": "display_data"
    }
   ],
   "source": [
    "j1 = AgentMTTS()\n",
    "j2 = Joueur_MonteCarlo('b')\n",
    "N = 100\n",
    "graphe_vic_moy(j1, j2, N)"
   ]
  },
  {
   "cell_type": "markdown",
   "metadata": {},
   "source": [
    "#### Joueur Monte Carlo contre joueur Monte Carlo Research Tree"
   ]
  },
  {
   "cell_type": "code",
   "execution_count": 47,
   "metadata": {},
   "outputs": [
    {
     "name": "stdout",
     "output_type": "stream",
     "text": [
      "proba j1: 0.07470144509855296\n",
      "proba j2: 0.7368143000024554\n",
      "proba match null: 0.18848425489899154\n"
     ]
    },
    {
     "data": {
      "image/png": "[encoded data removed]",
      "text/plain": [
       "<Figure size 432x288 with 1 Axes>"
      ]
     },
     "metadata": {
      "needs_background": "light"
     },
     "output_type": "display_data"
    }
   ],
   "source": [
    "j1 = Joueur_MonteCarlo('b')\n",
    "j2 = AgentMTTS()\n",
    "N = 100\n",
    "graphe_vic_moy(j1, j2, N)"
   ]
  },
  {
   "cell_type": "markdown",
   "metadata": {},
   "source": [
    "Commentaire : (ajouter)"
   ]
  },
  {
   "cell_type": "markdown",
   "metadata": {},
   "source": [
    "#### Joueur Aléatoire contre joueur Monte Carlo Research Tree"
   ]
  },
  {
   "cell_type": "code",
   "execution_count": 48,
   "metadata": {},
   "outputs": [
    {
     "name": "stdout",
     "output_type": "stream",
     "text": [
      "proba j1: 0.0\n",
      "proba j2: 0.920726223293117\n",
      "proba match null: 0.07927377670688301\n"
     ]
    },
    {
     "data": {
      "image/png": "[encoded data removed]",
      "text/plain": [
       "<Figure size 432x288 with 1 Axes>"
      ]
     },
     "metadata": {
      "needs_background": "light"
     },
     "output_type": "display_data"
    }
   ],
   "source": [
    "j1 = Joueur_Aleatoire('b')\n",
    "j2 = AgentMTTS()\n",
    "N = 100\n",
    "graphe_vic_moy(j1, j2, N)"
   ]
  },
  {
   "cell_type": "markdown",
   "metadata": {},
   "source": [
    "Commentaire : (ajouter)"
   ]
  },
  {
   "cell_type": "code",
   "execution_count": null,
   "metadata": {},
   "outputs": [],
   "source": []
  }
 ],
 "metadata": {
  "kernelspec": {
   "display_name": "Python 3",
   "language": "python",
   "name": "python3"
  },
  "language_info": {
   "codemirror_mode": {
    "name": "ipython",
    "version": 3
   },
   "file_extension": ".py",
   "mimetype": "text/x-python",
   "name": "python",
   "nbconvert_exporter": "python",
   "pygments_lexer": "ipython3",
   "version": "3.7.0"
  }
 },
 "nbformat": 4,
 "nbformat_minor": 2
}
